{
 "cells": [
  {
   "cell_type": "code",
   "execution_count": null,
   "metadata": {},
   "outputs": [],
   "source": [
    "# import packages\n",
    "import seaborn as sns\n",
    "import matplotlib.pyplot as plt\n",
    "\n",
    "# loaidng dataset x\n",
    "data = sns.load_dataset(\"iris\")\n",
    "\n",
    "# draw lineplot \n",
    "sns.lineplot(x = \"sepal_length\", y = \"sepal_width\", data = data)\n",
    "plt.title('Title using Matplotlib Function')\n",
    "plt.xlim(5)\n",
    "sns.set_style(\"dark\")\n",
    "\n",
    "plt.show()"
   ]
  },
  {
   "cell_type": "code",
   "execution_count": null,
   "metadata": {},
   "outputs": [],
   "source": [
    "import seaborn as sns\n",
    "\n",
    "import matplotlib.pyplot as plt \n",
    "\n",
    "tips = sns.load_dataset(\"tips\")\n",
    "\n",
    "# customize the scatter plot\n",
    "\n",
    "sns.scatterplot(x = \"total_bill\", y = \"tip\", hue = \"sex\", size = \"size\", sizes = (50,200), data=tips)\n",
    "\n",
    "# add labels and title \n",
    "\n",
    "plt.xlabel(\"Total Bill\")\n",
    "\n",
    "plt.ylabel(\"Tip\")\n",
    "\n",
    "plt.title(\"Relationship between Total Bill and Tip\")\n",
    "\n",
    "plt.show()"
   ]
  },
  {
   "cell_type": "code",
   "execution_count": null,
   "metadata": {},
   "outputs": [],
   "source": [
    "import seaborn as sns\n",
    "\n",
    "import matplotlib.pyplot as plt\n",
    "\n",
    "titanic = sns.load_dataset(\"titanic\")\n",
    "\n",
    "# customize the bar plot \n",
    "\n",
    "sns.barplot(x=\"class\", y=\"fare\", hue=\"sex\", palette=\"muted\", data = titanic)\n",
    "\n",
    "#add labels and title\n",
    "\n",
    "plt.xlabel(\"Class\")\n",
    "\n",
    "plt.ylabel(\"Fare\")\n",
    "\n",
    "plt.title(\"Average Frae by Class and Gender on the Titanic\")\n",
    "\n",
    "plt.show()"
   ]
  },
  {
   "cell_type": "code",
   "execution_count": null,
   "metadata": {},
   "outputs": [],
   "source": [
    "import seaborn as sns\n",
    "import matplotlib.pyplot as plt\n",
    "\n",
    "#Load the dataset\n",
    "flights = sns.load_dataset('flights')\n",
    "\n",
    "#Pivot the data\n",
    "flights = flights.pivot('month', 'year', 'passengers')\n",
    "\n",
    "#create a heatmap\n",
    "sns.heatmap(flights, cmap='Blues', annot = True, fmt = 'd')\n",
    "\n",
    "#Set the title and axis labels\n",
    "plt.title('Passengers per month')\n",
    "\n",
    "plt.xlabel('Year')\n",
    "\n",
    "plt.ylabel('Month')\n",
    "plt.show()"
   ]
  },
  {
   "cell_type": "code",
   "execution_count": null,
   "metadata": {},
   "outputs": [],
   "source": [
    "import seaborn as sns \n",
    "import matplotlib.pyplot as plt \n",
    "\n",
    "# load the tips dataset from seaborn \n",
    "tips = sns.load_dataset(\"tips\")\n",
    "\n",
    "sns.boxplot(x=\"day\", y=\"total_bill\", hue=\"time\", data=tips, palette=\"Set3\", linewidth=1.5, fliersize=4)\n",
    "\n",
    "#add a title, xlabel, and ylabel to the plot using Matplotlib Functions\n",
    "\n",
    "plt.title(\"Box Plot of Toatal Bill by Day and Meal Time\")\n",
    "\n",
    "plt.xlabel(\"Day of the week\")\n",
    "\n",
    "plt.ylabel(\"Total Bill ($)\")\n",
    "\n",
    "plt.show()"
   ]
  },
  {
   "cell_type": "markdown",
   "metadata": {},
   "source": [
    "PLOTLY"
   ]
  },
  {
   "cell_type": "code",
   "execution_count": null,
   "metadata": {},
   "outputs": [],
   "source": [
    "import plotly.express as px \n",
    "\n",
    "#Creating the Figure instance \n",
    "\n",
    "fig = px .line(x=[1,2,3], y = [1,2,3])\n",
    "\n",
    "# Showing the plot\n",
    "\n",
    "fig.show()"
   ]
  },
  {
   "cell_type": "code",
   "execution_count": null,
   "metadata": {},
   "outputs": [],
   "source": [
    "import plotly.express as px \n",
    "\n",
    "#using the iris dataset\n",
    "df = px.data.iris()\n",
    "\n",
    "#plotting the line chart\n",
    "fig = px.line(df, x=\"species\", y=\"petal_width\")\n",
    "\n",
    "#showing the plot\n",
    "fig.show()"
   ]
  },
  {
   "cell_type": "code",
   "execution_count": null,
   "metadata": {},
   "outputs": [],
   "source": [
    "import plotly.express as px\n",
    "\n",
    "#using the iris dataset\n",
    "df = px.data.iris()\n",
    "\n",
    "# plotting the bar chart\n",
    "fig = px.bar(df, x=\"sepal_width\", y =\"sepal_length\")\n",
    "\n",
    "\n",
    "#showing the plot\n",
    "fig.show()"
   ]
  },
  {
   "cell_type": "code",
   "execution_count": null,
   "metadata": {},
   "outputs": [],
   "source": [
    "import plotly.express as px\n",
    "\n",
    "#using the iris dataset\n",
    "df = px.data.iris()\n",
    "\n",
    "# plotting the histogram \n",
    "fig = px.histogram(df, x= \"sepal_length\", y=\"petal_width\")\n",
    "\n",
    "#showing the plot\n",
    "fig.show()"
   ]
  },
  {
   "cell_type": "code",
   "execution_count": null,
   "metadata": {},
   "outputs": [],
   "source": [
    "import plotly.express as px\n",
    "\n",
    "#using the iris dataset\n",
    "df = px.data.iris()\n",
    "\n",
    "# plotting the scatter chart \n",
    "fig = px.scatter(df, x=\"species\", y=\"petal_width\")\n",
    "\n",
    "#showing the plot\n",
    "fig.show()"
   ]
  },
  {
   "cell_type": "code",
   "execution_count": null,
   "metadata": {},
   "outputs": [],
   "source": [
    "import plotly.express as px \n",
    "\n",
    "#using the tips dataset\n",
    "df = px.data.tips()\n",
    "\n",
    "#plotting the pie chart\n",
    "fig = px.pie(df, values=\"total_bill\", names=\"day\")\n",
    "\n",
    "#showing the plot\n",
    "fig.show()"
   ]
  }
 ],
 "metadata": {
  "kernelspec": {
   "display_name": "Python 3",
   "language": "python",
   "name": "python3"
  },
  "language_info": {
   "codemirror_mode": {
    "name": "ipython",
    "version": 3
   },
   "file_extension": ".py",
   "mimetype": "text/x-python",
   "name": "python",
   "nbconvert_exporter": "python",
   "pygments_lexer": "ipython3",
   "version": "3.9.6"
  }
 },
 "nbformat": 4,
 "nbformat_minor": 2
}
